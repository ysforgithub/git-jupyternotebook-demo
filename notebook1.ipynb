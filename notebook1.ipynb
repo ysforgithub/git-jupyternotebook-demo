{
 "metadata": {
  "language_info": {
   "codemirror_mode": {
    "name": "ipython",
    "version": 3
   },
   "file_extension": ".py",
   "mimetype": "text/x-python",
   "name": "python",
   "nbconvert_exporter": "python",
   "pygments_lexer": "ipython3",
   "version": "3.7.4"
  },
  "orig_nbformat": 4,
  "kernelspec": {
   "name": "python3",
   "display_name": "Python 3.7.4 64-bit ('base': conda)"
  },
  "interpreter": {
   "hash": "bd2c118529533908d9067ce23493bce78567a646d62288ed95eaf2d93667be77"
  }
 },
 "nbformat": 4,
 "nbformat_minor": 2,
 "cells": [
  {
   "cell_type": "code",
   "execution_count": 2,
   "metadata": {},
   "outputs": [
    {
     "output_type": "stream",
     "name": "stdout",
     "text": [
      "False\n"
     ]
    }
   ],
   "source": [
    "#4 Contains duplicate \n",
    "# Given an integer array nums, return true if any value appears at least twice in the array, and return false if every element is distinct.\n",
    "#Input: nums = [1,2,3,1] Output: true\n",
    "class Solution(object):\n",
    "    def containsDuplicate(self, nums):\n",
    "        \"\"\"\n",
    "        :type nums: List[int]\n",
    "        :rtype: bool\n",
    "        \"\"\"\n",
    "        return True if len(set(nums)) < len(nums) else False\n",
    "ob = Solution()\n",
    "nums = [1,2,3,4]\n",
    "print (ob.containsDuplicate(nums))\n",
    "\n",
    "# notes, set in python, do O(1) search and insert. \n",
    "# set contains unit elements of the list"
   ]
  },
  {
   "cell_type": "code",
   "execution_count": 14,
   "metadata": {},
   "outputs": [
    {
     "output_type": "stream",
     "name": "stdout",
     "text": [
      "[1, 2, 3, 4, 5]\n"
     ]
    }
   ],
   "source": [
    "#1 remove duplicates\n",
    "# nums = [1,2,3,3,3,4,5]\n",
    "class Solution(object):\n",
    "    def removeduplicates(self, nums):\n",
    "        i = 0 \n",
    "        while i < len(nums)-1:\n",
    "            if nums[i] == nums[i+1]:\n",
    "                del nums[i]\n",
    "            else: \n",
    "                i=i+1\n",
    "        return nums\n",
    "\n",
    "ob = Solution()\n",
    "nums = [1,2,3,3,3,4,5]\n",
    "print (ob.removeduplicates(nums))"
   ]
  },
  {
   "cell_type": "code",
   "execution_count": 17,
   "metadata": {},
   "outputs": [
    {
     "output_type": "stream",
     "name": "stdout",
     "text": [
      "7\n"
     ]
    }
   ],
   "source": [
    "#2 maxprofit to buy and sell stocks \n",
    "prices = [7,1,5,3,6,4]\n",
    "\n",
    "class Solution(object):\n",
    "    def maxprofit(self, prices):\n",
    "        profit = 0 \n",
    "        for i in range(1, len(prices)):\n",
    "            profit = profit + max(prices[i]-prices[i-1],0)\n",
    "        return profit \n",
    "ob = Solution()\n",
    "print (ob.maxprofit(prices))"
   ]
  },
  {
   "cell_type": "code",
   "execution_count": 20,
   "metadata": {},
   "outputs": [
    {
     "output_type": "stream",
     "name": "stdout",
     "text": [
      "[5, 6, 7, 1, 2, 3, 4]\n"
     ]
    }
   ],
   "source": [
    "#3 Rotate an array by k times \n",
    "nums = [1,2,3,4,5,6,7]\n",
    "k = 3\n",
    "class solution(object):\n",
    "    def rotatearray(self, nums, k):\n",
    "        n = len(nums)\n",
    "        a = [0]*n\n",
    "        for i in range(n):\n",
    "            a[(i+k)%n]=nums[i]\n",
    "        nums[:] = a\n",
    "        return nums \n",
    "ob = solution()\n",
    "print (ob.rotatearray(nums,k))\n"
   ]
  },
  {
   "cell_type": "code",
   "execution_count": 27,
   "metadata": {},
   "outputs": [
    {
     "output_type": "stream",
     "name": "stdout",
     "text": [
      "4\n"
     ]
    }
   ],
   "source": [
    "#5 Single Number\n",
    "# Given a non-empty array of integers nums, every element appears twice except for one. Find that single one.\n",
    "nums = [4,1,2,1,2]\n",
    "'''class Solution(object):\n",
    "    def singleNumber(self, nums):\n",
    "        \"\"\"\n",
    "        :type nums: List[int]\n",
    "        :rtype: int\n",
    "        \"\"\"\n",
    "        return 2 * sum(set(nums)) - sum(nums)'''\n",
    "from collections import defaultdict\n",
    "class Solution(object):\n",
    "    def singleNumber(self, nums):\n",
    "        hash_table = defaultdict(int)\n",
    "        for i in nums:\n",
    "            hash_table[i] += 1\n",
    "        \n",
    "        for i in hash_table:\n",
    "            if hash_table[i] == 1:\n",
    "                return i\n",
    "ob = Solution()\n",
    "print (ob.singleNumber(nums))"
   ]
  },
  {
   "cell_type": "code",
   "execution_count": 30,
   "metadata": {},
   "outputs": [
    {
     "output_type": "stream",
     "name": "stdout",
     "text": [
      "[9, 4]\n"
     ]
    }
   ],
   "source": [
    "#6  Intersection of Two Arrays II\n",
    "# Input: nums1 = [4,9,5], nums2 = [9,4,9,8,4] Output: [4,9]\n",
    "class Solution(object):\n",
    "    def intersection(self, nums1, nums2):\n",
    "        set1 = set(nums1)\n",
    "        set2 = set(nums2)\n",
    "        return list(set1&set2)\n",
    "ob = Solution()\n",
    "nums1 = [4,9,5]\n",
    "nums2 = [9,4,9,8,4]\n",
    "print(ob.intersection(nums1,nums2))"
   ]
  },
  {
   "cell_type": "code",
   "execution_count": 40,
   "metadata": {},
   "outputs": [
    {
     "output_type": "stream",
     "name": "stdout",
     "text": [
      "[1, 2, 4]\n"
     ]
    }
   ],
   "source": [
    "# 6 Plus one \n",
    "# Input: digits = [1,2,3] Output: [1,2,4]\n",
    "class solution(object):\n",
    "    def plusone(self, nums):\n",
    "        value = 0 \n",
    "        n = len(nums)\n",
    "        for i in range(n):\n",
    "            value = value + pow(10,(n-1-i))*nums[i]\n",
    "        value = value+1\n",
    "        res = [int(x) for x in str(value)]\n",
    "        return res\n",
    "ob = solution()\n",
    "nums = [1,2,3]\n",
    "print (ob.plusone(nums))"
   ]
  },
  {
   "cell_type": "code",
   "execution_count": 50,
   "metadata": {},
   "outputs": [
    {
     "output_type": "stream",
     "name": "stdout",
     "text": [
      "[1, 0, 0]\n"
     ]
    }
   ],
   "source": [
    "#7 mvoe Zeros\n",
    "'''Given an integer array nums, move all 0's to the end of it while maintaining the relative order of the non-zero elements.'''\n",
    "'''nums = [0,1,0,3,12]\n",
    "Output: [1,3,12,0,0]'''\n",
    "class solution(object):\n",
    "    def movezeros(self,nums):\n",
    "        for i in range(len(nums)):\n",
    "            if nums[i]==0:\n",
    "                nums.remove(0)\n",
    "                nums.append(0)\n",
    "        return nums \n",
    "ob = solution()\n",
    "nums = [0,0,1]\n",
    "print (ob.movezeros(nums))      "
   ]
  },
  {
   "cell_type": "code",
   "execution_count": 73,
   "metadata": {},
   "outputs": [
    {
     "output_type": "stream",
     "name": "stdout",
     "text": [
      "[0, 1]\n"
     ]
    },
    {
     "output_type": "execute_result",
     "data": {
      "text/plain": [
       "__main__.Solution"
      ]
     },
     "metadata": {},
     "execution_count": 73
    }
   ],
   "source": [
    "#8 Two sum \n",
    "'''Given an array of integers nums and an integer target, return indices of the two numbers such that they add up to target.\n",
    "Input: nums = [2,7,11,15], target = 9\n",
    "Output: [0,1]'''\n",
    "class Solution(object):\n",
    "    def twoSum(self, nums, target):\n",
    "        \"\"\"\n",
    "        :type nums: List[int]\n",
    "        :type target: int\n",
    "        :rtype: List[int]\n",
    "        \"\"\"\n",
    "        h = {}\n",
    "        for i, num in enumerate(nums):\n",
    "            n = target - num\n",
    "            if n not in h.keys():\n",
    "                    h[num] = i \n",
    "            else: \n",
    "                return [h[n],i]\n",
    "ob = Solution()\n",
    "nums = [2,7,11,15]\n",
    "target = 9\n",
    "print(ob.twoSum(nums,target))"
   ]
  },
  {
   "cell_type": "code",
   "execution_count": 87,
   "metadata": {},
   "outputs": [
    {
     "output_type": "stream",
     "name": "stdout",
     "text": [
      "[[7 4 1]\n [8 5 2]\n [9 6 3]]\n"
     ]
    }
   ],
   "source": [
    "#9 Rotate Image\n",
    "'''You are given an n x n 2D matrix representing an image, rotate the image by 90 degrees (clockwise).\n",
    "\n",
    "You have to rotate the image in-place, which means you have to modify the input 2D matrix directly. DO NOT allocate another 2D matrix and do the rotation.\n",
    "Input: matrix = [[1,2,3],[4,5,6],[7,8,9]]\n",
    "Output: [[7,4,1],[8,5,2],[9,6,3]]'''\n",
    "import numpy as np \n",
    "class solution(object):\n",
    "    def rotateimage(self, matrix):\n",
    "        a= np.array(matrix) # conver to numpy \n",
    "        b=a.transpose() # numpy array transpose\n",
    "        c=np.flip(b,1) # numpy array flip vertically\n",
    "        return c\n",
    "ob = solution()\n",
    "\n",
    "matrix = [[1,2,3],[4,5,6],[7,8,9]]\n",
    "print (ob.rotateimage(matrix))\n"
   ]
  },
  {
   "cell_type": "code",
   "execution_count": 93,
   "metadata": {},
   "outputs": [
    {
     "output_type": "stream",
     "name": "stdout",
     "text": [
      "['o', 'l', 'l', 'e', 'h']\n"
     ]
    }
   ],
   "source": [
    "# string\n",
    "#1 reverse string \n",
    "'''Share\n",
    "Write a function that reverses a string. The input string is given as an array of characters s.\n",
    "Input: s = [\"h\",\"e\",\"l\",\"l\",\"o\"]\n",
    "Output: [\"o\",\"l\",\"l\",\"e\",\"h\"]\n",
    "Follow up: Do not allocate extra space for another array. You must do this by modifying the input array in-place with O(1) extra memory.'''\n",
    "class Solution:\n",
    "    def reverseString(self, s):\n",
    "        left = 0\n",
    "        right = len(s)-1\n",
    "        while left < right: \n",
    "            s[left],s[right] = s[right],s[left] # this will ensure the left and right swap at the same without using extra memory to save the value\n",
    "            left, right = left +1,right-1\n",
    "        return s\n",
    "ob = Solution()\n",
    "s = [\"h\",\"e\",\"l\",\"l\",\"o\"]\n",
    "print(ob.reverseString(s))\n"
   ]
  },
  {
   "cell_type": "code",
   "execution_count": 123,
   "metadata": {},
   "outputs": [
    {
     "output_type": "stream",
     "name": "stdout",
     "text": [
      "-54321\n"
     ]
    },
    {
     "output_type": "execute_result",
     "data": {
      "text/plain": [
       "'continue is for while loop\\npass is for for loop\\nif, elif, else'"
      ]
     },
     "metadata": {},
     "execution_count": 123
    }
   ],
   "source": [
    "'''Reverse Integer\n",
    "Given a signed 32-bit integer x, return x with its digits reversed. If reversing x causes the value to go outside the signed 32-bit integer range [-231, 231 - 1], then return 0.\n",
    "\n",
    "Assume the environment does not allow you to store 64-bit integers (signed or unsigned).\n",
    "Input: x = -123\n",
    "Output: -321\n",
    " '''\n",
    "class solution(object):\n",
    "    def reverseinteger(self, x):\n",
    "        if x > 2**31-1 or x< -2**31-1: \n",
    "            return 0 \n",
    "        else: \n",
    "            strg = str(x)\n",
    "            if x >=0: \n",
    "                revst = strg[::-1]\n",
    "            else: \n",
    "                temp = strg[1:]\n",
    "                temp2 = temp[::-1]\n",
    "                revst = '-'+temp2\n",
    "        return revst\n",
    "x = -12345\n",
    "print(ob.reverseinteger(x))\n",
    "\n",
    "'''continue is for while loop\n",
    "pass is for for loop\n",
    "if, elif, else'''"
   ]
  },
  {
   "cell_type": "code",
   "execution_count": 136,
   "metadata": {},
   "outputs": [
    {
     "output_type": "stream",
     "name": "stdout",
     "text": [
      "2\n"
     ]
    }
   ],
   "source": [
    "# 3 First Unique Character in a String\n",
    "'''Given a string s, return the first non-repeating character in it and return its index. If it does not exist, return -1.\n",
    "Input: s = \"loveleetcode\"\n",
    "Output: 2'''\n",
    "import collections\n",
    "class Solution(object):\n",
    "    def firstUniqChar(self, s):\n",
    "        \"\"\"\n",
    "        :type s: str\n",
    "        :rtype: int\n",
    "        \"\"\"\n",
    "        # build hash map : character and how often it appears\n",
    "        count = collections.Counter(s)\n",
    "\n",
    "        for i,char in enumerate(s):\n",
    "            if count[char]==1:\n",
    "                return i \n",
    "        return -1 \n",
    "\n",
    "ob = Solution()\n",
    "s = \"loveleetcode\"\n",
    "print(ob.firstUniqChar(s))"
   ]
  },
  {
   "cell_type": "code",
   "execution_count": 142,
   "metadata": {},
   "outputs": [
    {
     "output_type": "stream",
     "name": "stdout",
     "text": [
      "False\n"
     ]
    }
   ],
   "source": [
    "#4 valid anagram\n",
    "'''Given two strings s and t, return true if t is an anagram of s, and false otherwise.'''\n",
    "#s = \"anagram\"\n",
    "#t = \"nagaram\"\n",
    "\n",
    "s = \"rat\"\n",
    "t = \"car\"\n",
    "class solution(object):\n",
    "    def validanagram(self, s,t):\n",
    "\n",
    "        count1 = collections.Counter(s)\n",
    "        count2 = collections.Counter(t)\n",
    "\n",
    "        if len(count1)!=len(count2):\n",
    "            return False\n",
    "\n",
    "        for i in count1:\n",
    "            if count1[i] == count2[i]:\n",
    "                pass\n",
    "            else: \n",
    "                return False\n",
    "        return True\n",
    "    ''' if len(s) != len(t):\n",
    "            return False\n",
    "        return sorted(s) == sorted(t)'''\n",
    "ob = solution()\n",
    "print(ob.validanagram(s,t))"
   ]
  },
  {
   "cell_type": "code",
   "execution_count": 156,
   "metadata": {},
   "outputs": [
    {
     "output_type": "stream",
     "name": "stdout",
     "text": [
      "True\n"
     ]
    }
   ],
   "source": [
    "# 5 Valid palindrome\n",
    "#s = \"A man, a plan, a canal: Panama\"\n",
    "s = \"ab@a\"\n",
    "import re \n",
    "\n",
    "def solution(s):\n",
    "    s = re.sub('[\\W_]+', '', s)\n",
    "    s = s.lower()\n",
    "    t = s[::-1]\n",
    "    if t == s: \n",
    "        return True\n",
    "    return False\n",
    "print(solution(s))\n",
    "'''library to move everything other than alpahbet charaters. re.sub('[\\W_]+', '', s)'''"
   ]
  },
  {
   "cell_type": "code",
   "execution_count": 168,
   "metadata": {},
   "outputs": [
    {
     "output_type": "stream",
     "name": "stdout",
     "text": [
      "fl\n"
     ]
    }
   ],
   "source": [
    "#6 Longest Common Prefix\n",
    "'''Write a function to find the longest common prefix string amongst an array of strings.\n",
    "\n",
    "If there is no common prefix, return an empty string \"\".\n",
    "Input: strs = [\"flower\",\"flow\",\"flight\"]\n",
    "Output: \"fl\"'''\n",
    "\n",
    "class Solution(object):\n",
    "    def longestCommonPrefix(self, strs):\n",
    "        \"\"\"\n",
    "        :type strs: List[str]\n",
    "        :rtype: str\n",
    "        \"\"\"\n",
    "        if len(strs) == 0:\n",
    "            return '' \n",
    "        res = ''\n",
    "        strs = sorted(strs)\n",
    "        for i in strs[0]:\n",
    "            if strs[-1].startswith(res+i):\n",
    "                res += i\n",
    "            else:\n",
    "                break\n",
    "        return res\n",
    "\n",
    "ob = Solution()\n",
    "arr = [\"flower\",\"flow\",\"flight\"]\n",
    "print (ob.longestCommonPrefix(arr))\n",
    "'''startwith, return true if the match'''\n"
   ]
  },
  {
   "cell_type": "code",
   "execution_count": 179,
   "metadata": {},
   "outputs": [
    {
     "output_type": "execute_result",
     "data": {
      "text/plain": [
       "['a', 'is', 'This', 'test', 'from', 'string', 'Andrew']"
      ]
     },
     "metadata": {},
     "execution_count": 179
    }
   ],
   "source": [
    "sorted(\"This is a test string from Andrew\".split(), key=len)\n",
    "#note, sorting can be determine by key, parameter"
   ]
  },
  {
   "cell_type": "code",
   "execution_count": 182,
   "metadata": {},
   "outputs": [
    {
     "output_type": "stream",
     "name": "stdout",
     "text": [
      "[25, 49, 484, 9409, 2916, 3844, 5929, 529, 5329, 3721]\n"
     ]
    }
   ],
   "source": [
    "li = [5, 7, 22, 97, 54, 62, 77, 23, 73, 61]\n",
    " \n",
    "final_list = list(map(lambda x:x**2,li))\n",
    "print(final_list)\n",
    "# lambda function with map function. map function apply lambda function to the list"
   ]
  },
  {
   "cell_type": "code",
   "execution_count": 191,
   "metadata": {},
   "outputs": [
    {
     "output_type": "error",
     "ename": "SyntaxError",
     "evalue": "invalid syntax (<ipython-input-191-b07ada5bb6bd>, line 6)",
     "traceback": [
      "\u001b[1;36m  File \u001b[1;32m\"<ipython-input-191-b07ada5bb6bd>\"\u001b[1;36m, line \u001b[1;32m6\u001b[0m\n\u001b[1;33m    class ListNode {\u001b[0m\n\u001b[1;37m                   ^\u001b[0m\n\u001b[1;31mSyntaxError\u001b[0m\u001b[1;31m:\u001b[0m invalid syntax\n"
     ]
    }
   ],
   "source": [
    "# linked list\n",
    "'''19. Remove Nth Node From End of List\n",
    "Given the head of a linked list, remove the nth node from the end of the list and return its head.\n",
    "Input: head = [1,2,3,4,5], n = 2\n",
    "Output: [1,2,3,5]'''\n",
    "class ListNode {\n",
    "  constructor(value) {\n",
    "    this.value = value;\n",
    "    this.next = null;\n",
    "  }\n",
    "}\n",
    "\n",
    "class solution(object): \n",
    "    def removeNthFromEnd(self, head: ListNode, n: int) -> ListNode:\n",
    "    # Two pointers - fast and slow\n",
    "        slow = head\n",
    "        fast = head\n",
    "    # Move fast pointer n steps ahead\n",
    "        for i in range(0, n):\n",
    "            if fast.next is None:\n",
    "            # If n is equal to the number of nodes, delete the head node\n",
    "                if i == n - 1:\n",
    "                    head = head.next\n",
    "                return head\n",
    "            fast = fast.next\n",
    "    # Loop until fast node reaches to the end\n",
    "    # Now we will move both slow and fast pointers\n",
    "        while fast.next is not None:\n",
    "            slow = slow.next\n",
    "            fast = fast.next\n",
    "    # Delink the nth node from last\n",
    "        if slow.next is not None:\n",
    "            slow.next = slow.next.next\n",
    "        return head\n",
    "ob = solution()\n",
    "head = [1,2,3,4,5]\n",
    "n = 2\n",
    "print (ob.removeNthFromEnd(head,n))"
   ]
  },
  {
   "cell_type": "code",
   "execution_count": 189,
   "metadata": {},
   "outputs": [
    {
     "output_type": "error",
     "ename": "AttributeError",
     "evalue": "'list' object has no attribute 'next'",
     "traceback": [
      "\u001b[1;31m---------------------------------------------------------------------------\u001b[0m",
      "\u001b[1;31mAttributeError\u001b[0m                            Traceback (most recent call last)",
      "\u001b[1;32m<ipython-input-189-708cfd3d51ee>\u001b[0m in \u001b[0;36m<module>\u001b[1;34m\u001b[0m\n\u001b[0;32m      1\u001b[0m \u001b[0mhead\u001b[0m \u001b[1;33m=\u001b[0m \u001b[1;33m[\u001b[0m\u001b[1;36m1\u001b[0m\u001b[1;33m,\u001b[0m\u001b[1;36m2\u001b[0m\u001b[1;33m,\u001b[0m\u001b[1;36m3\u001b[0m\u001b[1;33m,\u001b[0m\u001b[1;36m4\u001b[0m\u001b[1;33m,\u001b[0m\u001b[1;36m5\u001b[0m\u001b[1;33m]\u001b[0m\u001b[1;33m\u001b[0m\u001b[1;33m\u001b[0m\u001b[0m\n\u001b[1;32m----> 2\u001b[1;33m \u001b[0mhead\u001b[0m\u001b[1;33m.\u001b[0m\u001b[0mnext\u001b[0m\u001b[1;33m\u001b[0m\u001b[1;33m\u001b[0m\u001b[0m\n\u001b[0m",
      "\u001b[1;31mAttributeError\u001b[0m: 'list' object has no attribute 'next'"
     ]
    }
   ],
   "source": [
    "head = [1,2,3,4,5]\n",
    "head.next"
   ]
  },
  {
   "cell_type": "code",
   "execution_count": 218,
   "metadata": {},
   "outputs": [
    {
     "output_type": "stream",
     "name": "stdout",
     "text": [
      "Given linked list\n1\n2\n3\n5\n5\n6\n7\n8\n"
     ]
    },
    {
     "output_type": "error",
     "ename": "TypeError",
     "evalue": "hasCycle() missing 1 required positional argument: 'head'",
     "traceback": [
      "\u001b[1;31m---------------------------------------------------------------------------\u001b[0m",
      "\u001b[1;31mTypeError\u001b[0m                                 Traceback (most recent call last)",
      "\u001b[1;32m<ipython-input-218-5cae7307d646>\u001b[0m in \u001b[0;36m<module>\u001b[1;34m\u001b[0m\n\u001b[0;32m     58\u001b[0m \u001b[1;33m\u001b[0m\u001b[0m\n\u001b[0;32m     59\u001b[0m \u001b[0mllist\u001b[0m\u001b[1;33m.\u001b[0m\u001b[0mreverse\u001b[0m\u001b[1;33m(\u001b[0m\u001b[1;33m)\u001b[0m\u001b[1;33m\u001b[0m\u001b[1;33m\u001b[0m\u001b[0m\n\u001b[1;32m---> 60\u001b[1;33m \u001b[0mllist\u001b[0m\u001b[1;33m.\u001b[0m\u001b[0mhasCycle\u001b[0m\u001b[1;33m(\u001b[0m\u001b[1;33m)\u001b[0m\u001b[1;33m\u001b[0m\u001b[1;33m\u001b[0m\u001b[0m\n\u001b[0m\u001b[0;32m     61\u001b[0m \u001b[0mprint\u001b[0m \u001b[1;33m(\u001b[0m\u001b[1;34m\"\\nReverse linked list\"\u001b[0m\u001b[1;33m)\u001b[0m\u001b[1;33m\u001b[0m\u001b[1;33m\u001b[0m\u001b[0m\n\u001b[0;32m     62\u001b[0m \u001b[0mllist\u001b[0m\u001b[1;33m.\u001b[0m\u001b[0mprintList\u001b[0m\u001b[1;33m(\u001b[0m\u001b[1;33m)\u001b[0m\u001b[1;33m\u001b[0m\u001b[1;33m\u001b[0m\u001b[0m\n",
      "\u001b[1;31mTypeError\u001b[0m: hasCycle() missing 1 required positional argument: 'head'"
     ]
    }
   ],
   "source": [
    "# reverse a linked list \n",
    "class Node:\n",
    "    # Constructor to initialize the node object\n",
    "    def __init__(self, data):\n",
    "        self.data = data\n",
    "        self.next = None\n",
    " \n",
    "class LinkedList:\n",
    "    # Function to initialize head\n",
    "    def __init__(self):\n",
    "        self.head = None\n",
    " \n",
    "    def reverse(self):\n",
    "        prev = None\n",
    "        current = self.head\n",
    "        while(current is not None):\n",
    "            next = current.next\n",
    "            current.next = prev\n",
    "            prev = current\n",
    "            current = next\n",
    "        self.head = prev\n",
    "    # Function to insert a new node at the beginning\n",
    " \n",
    "    def push(self, new_data):\n",
    "        new_node = Node(new_data)\n",
    "        new_node.next = self.head\n",
    "        self.head = new_node\n",
    " \n",
    "    # Utility function to print the linked LinkedList\n",
    "    def printList(self):\n",
    "        temp = self.head\n",
    "        while(temp):\n",
    "            print (temp.data)\n",
    "            temp = temp.next\n",
    "    def hasCycle(self,head):\n",
    "        nodes_seen = set()\n",
    "        while head is not None:\n",
    "            if head in nodes_seen:\n",
    "                return True\n",
    "            nodes_seen.add(head)\n",
    "            head = head.next\n",
    "        return False\n",
    " \n",
    " \n",
    "# Driver code\n",
    "llist = LinkedList()\n",
    "llist.push(8)\n",
    "llist.push(7)\n",
    "llist.push(6)\n",
    "llist.push(5)\n",
    "llist.push(5)\n",
    "llist.push(3)\n",
    "llist.push(2)\n",
    "llist.push(1)\n",
    " \n",
    "print (\"Given linked list\")\n",
    "llist.printList()\n",
    " \n",
    "llist.reverse()\n",
    "llist.hasCycle()\n",
    "print (\"\\nReverse linked list\")\n",
    "llist.printList()\n",
    " "
   ]
  },
  {
   "cell_type": "code",
   "execution_count": null,
   "metadata": {},
   "outputs": [],
   "source": [
    "# validate if the linked list is cycle\n",
    "class Solution:\n",
    "    def hasCycle(self, head: ListNode) -> bool:\n",
    "        nodes_seen = set()\n",
    "        while head is not None:\n",
    "            if head in nodes_seen:\n",
    "                return True\n",
    "            nodes_seen.add(head)\n",
    "            head = head.next\n",
    "        return False"
   ]
  },
  {
   "cell_type": "code",
   "execution_count": 222,
   "metadata": {},
   "outputs": [
    {
     "output_type": "stream",
     "name": "stdout",
     "text": [
      "Height of tree is 3\n"
     ]
    }
   ],
   "source": [
    "# find the max depth of the tree \n",
    "# A binary tree node\n",
    "class Node:\n",
    " \n",
    "    # Constructor to create a new node\n",
    "    def __init__(self, data):\n",
    "        self.data = data\n",
    "        self.left = None\n",
    "        self.right = None\n",
    " \n",
    "# Compute the \"maxDepth\" of a tree -- the number of nodes\n",
    "# along the longest path from the root node down to the\n",
    "# farthest leaf node\n",
    "def maxDepth(node):\n",
    "    if node is None:\n",
    "        return 0 ;\n",
    " \n",
    "    else :\n",
    " \n",
    "        # Compute the depth of each subtree\n",
    "        lDepth = maxDepth(node.left)\n",
    "        rDepth = maxDepth(node.right)\n",
    " \n",
    "        # Use the larger one\n",
    "        return max(lDepth,rDepth)+1\n",
    " \n",
    " \n",
    "# Driver program to test above function\n",
    "root = Node(1)\n",
    "root.left = Node(2)\n",
    "root.right = Node(3)\n",
    "root.left.left = Node(4)\n",
    "root.left.right = Node(5)\n",
    " \n",
    " \n",
    "print (\"Height of tree is %d\" %(maxDepth(root)))"
   ]
  },
  {
   "cell_type": "code",
   "execution_count": 239,
   "metadata": {},
   "outputs": [
    {
     "output_type": "stream",
     "name": "stdout",
     "text": [
      "If this tree a binary search tree? False\n"
     ]
    }
   ],
   "source": [
    "# validate if a tree is a binary search tree\n",
    "import math\n",
    "class Node(object):\n",
    "    def __init__(self, val=0, left=None, right=None):\n",
    "         self.val = val\n",
    "         self.left = left\n",
    "         self.right = right\n",
    "class solution(object):\n",
    "    def isValidBST(self, node):\n",
    "\n",
    "        def validate(node, low=-math.inf, high=math.inf):\n",
    "            # Empty trees are valid BSTs.\n",
    "            if not node:\n",
    "                return True\n",
    "            # The current node's value must be between low and high.\n",
    "            if node.val <= low or node.val >= high:\n",
    "                return False\n",
    "\n",
    "            # The left and right subtree must also be valid.\n",
    "            return (validate(node.right, node.val, high) and\n",
    "                   validate(node.left, low, node.val))\n",
    "\n",
    "        return validate(root)\n",
    "root = Node(5)\n",
    "root.left = Node(1)\n",
    "root.right = Node(4)\n",
    "root.right.left = Node(3)\n",
    "root.right.right = Node(6)\n",
    "ob = solution()\n",
    "print (\"If this tree a binary search tree?\",ob.isValidBST(root))"
   ]
  },
  {
   "cell_type": "code",
   "execution_count": 253,
   "metadata": {},
   "outputs": [
    {
     "output_type": "stream",
     "name": "stdout",
     "text": [
      "if the tree is symmetric? True\n"
     ]
    }
   ],
   "source": [
    "# validate if symmetric tree \n",
    "'''Given the root of a binary tree, check whether it is a mirror of itself (i.e., symmetric around its center).'''\n",
    "class Node(object):\n",
    "    def __init__(self, val = 0, left = None, right = None):\n",
    "        self. val = val \n",
    "        self. left = left \n",
    "        self. right = right \n",
    "class solution(object):\n",
    "    def isMirror(self, t1, t2):\n",
    "        if not t1 and not t2: return True\n",
    "        if not t1 or not t2: return False\n",
    "        return t1.val == t1.val and self.isMirror(t1.left, t2.right) and slef.isMirror(t1.right,t2.left)\n",
    "\n",
    "root1 = Node(5)\n",
    "root1.left = Node(1)\n",
    "root1.right = Node(4)\n",
    "root1.right.left = Node(3)\n",
    "root1.right.right = Node(6)\n",
    "root2 = Node(1)\n",
    "root2.left = Node(2)\n",
    "root2.right = Node(2)\n",
    "root2.right.left = Node(4)\n",
    "root2.right.right = Node(3)\n",
    "root2.left.left = Node(3)\n",
    "root2.left.right = Node(4)\n",
    "\n",
    "ob = Solution()\n",
    "print (\"if the tree is symmetric?\", ob.isSymmetric(root2))"
   ]
  },
  {
   "cell_type": "code",
   "execution_count": 259,
   "metadata": {},
   "outputs": [
    {
     "output_type": "stream",
     "name": "stdout",
     "text": [
      "Level Order Traversal of binary tree is -\n"
     ]
    },
    {
     "output_type": "execute_result",
     "data": {
      "text/plain": [
       "[[1], [2, 3], [4, 5]]"
      ]
     },
     "metadata": {},
     "execution_count": 259
    }
   ],
   "source": [
    "# print tree's each level's node's value from root to the foot\n",
    "\n",
    "# Python program to print level\n",
    "# order traversal using Queue\n",
    "class Node(object):\n",
    "    def __init__(self, val=0, left = None, right = None):\n",
    "        self. val = val \n",
    "        self. left = left \n",
    "        self. right = right \n",
    "class solution(object):\n",
    "    def outputTreeasArray(self, root):\n",
    "        if not root: \n",
    "            return \n",
    "        queue = []\n",
    "        queue.append(root)\n",
    "        result = []\n",
    "        while (len(queue)>0):\n",
    "            subarr = []\n",
    "            n = len(queue)\n",
    "            for i in range(n):\n",
    "                node = queue.pop(0)\n",
    "                subarr.append(node.val)\n",
    "                if node.left is not None: \n",
    "                    queue.append(node.left)\n",
    "                if node.right is not None: \n",
    "                    queue.append(node.right)\n",
    "            result.append(subarr)\n",
    "        return result \n",
    " \n",
    "#Driver Program to test above function\n",
    "root = Node(1)\n",
    "root.left = Node(2)\n",
    "root.right = Node(3)\n",
    "root.left.left = Node(4)\n",
    "root.left.right = Node(5)\n",
    "ob = solution()\n",
    "print (\"Level Order Traversal of binary tree is -\")\n",
    "ob.outputTreeasArray(root)"
   ]
  },
  {
   "cell_type": "code",
   "execution_count": 270,
   "metadata": {},
   "outputs": [
    {
     "output_type": "stream",
     "name": "stdout",
     "text": [
      "<__main__.Node object at 0x00000265BA453708>\n"
     ]
    }
   ],
   "source": [
    "class Node(object):\n",
    "    def __init__(self, val=0, left = None, right = None):\n",
    "        self. val = val \n",
    "        self. left = left \n",
    "        self. right = right \n",
    "class Solution:\n",
    "    # @param num, a list of integers\n",
    "    # @return a tree node\n",
    "    def sortedArrayToBST(self, num):\n",
    "        return self.sortedArrayToBSTRecu(num, 0, len(num))\n",
    "    \n",
    "    def sortedArrayToBSTRecu(self, num, start, end):\n",
    "        if start == end:\n",
    "            return None\n",
    "        mid = start + int((end - start) / 2)\n",
    "        node = Node(num[mid])\n",
    "        node.left = self.sortedArrayToBSTRecu(num, start, mid)\n",
    "        node.right = self.sortedArrayToBSTRecu(num, mid + 1, end)\n",
    "        return node\n",
    "ob = Solution()\n",
    "num = [1,2,3,4,5,6]\n",
    "print (ob.sortedArrayToBST(num))"
   ]
  },
  {
   "cell_type": "code",
   "execution_count": null,
   "metadata": {},
   "outputs": [],
   "source": []
  }
 ]
}